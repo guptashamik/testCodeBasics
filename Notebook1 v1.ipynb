{
 "cells": [
  {
   "cell_type": "code",
   "execution_count": 4,
   "id": "7f3c4ade",
   "metadata": {},
   "outputs": [
    {
     "name": "stdout",
     "output_type": "stream",
     "text": [
      "Are you hungry? no\n",
      "do your homework\n"
     ]
    }
   ],
   "source": [
    "hungry = input(\"Are you hungry? \")\n",
    "if hungry == 'yes':\n",
    "    print(\"eat samosa\")\n",
<<<<<<< HEAD
    "    print(\"eat pizza\")\n",
    "    print(\"eat burger\")\n",
=======
>>>>>>> parent of 454ce71 (pizza)
    "else:\n",
    "    print(\"do your homework\")"
   ]
  },
  {
   "cell_type": "code",
   "execution_count": null,
   "id": "e28f0eea",
   "metadata": {},
   "outputs": [],
   "source": []
  }
 ],
 "metadata": {
  "kernelspec": {
   "display_name": "Python 3 (ipykernel)",
   "language": "python",
   "name": "python3"
  },
  "language_info": {
   "codemirror_mode": {
    "name": "ipython",
    "version": 3
   },
   "file_extension": ".py",
   "mimetype": "text/x-python",
   "name": "python",
   "nbconvert_exporter": "python",
   "pygments_lexer": "ipython3",
   "version": "3.11.5"
  }
 },
 "nbformat": 4,
 "nbformat_minor": 5
}
